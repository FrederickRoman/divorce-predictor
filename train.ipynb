{
 "cells": [
  {
   "cell_type": "markdown",
   "metadata": {},
   "source": [
    "Import dependencies"
   ]
  },
  {
   "cell_type": "code",
   "execution_count": 64,
   "metadata": {},
   "outputs": [],
   "source": [
    "import math\n",
    "import pandas as pd\n",
    "import numpy as np\n",
    "import tensorflow as tf\n",
    "import tensorflowjs as tfjs"
   ]
  },
  {
   "cell_type": "markdown",
   "metadata": {},
   "source": [
    "Load data"
   ]
  },
  {
   "cell_type": "code",
   "execution_count": 65,
   "metadata": {},
   "outputs": [
    {
     "name": "stdout",
     "output_type": "stream",
     "text": [
      "   Atr1  Atr2  Atr3  Atr4  Atr5  Atr6  Atr7  Atr8  Atr9  Atr10  ...  Atr46  \\\n",
      "0     2     2     4     1     0     0     0     0     0      0  ...      2   \n",
      "1     4     4     4     4     4     0     0     4     4      4  ...      2   \n",
      "2     2     2     2     2     1     3     2     1     1      2  ...      3   \n",
      "3     3     2     3     2     3     3     3     3     3      3  ...      2   \n",
      "4     2     2     1     1     1     1     0     0     0      0  ...      2   \n",
      "\n",
      "   Atr47  Atr48  Atr49  Atr50  Atr51  Atr52  Atr53  Atr54  Class  \n",
      "0      1      3      3      3      2      3      2      1      1  \n",
      "1      2      3      4      4      4      4      2      2      1  \n",
      "2      2      3      1      1      1      2      2      2      1  \n",
      "3      2      3      3      3      3      2      2      2      1  \n",
      "4      1      2      3      2      2      2      1      0      1  \n",
      "\n",
      "[5 rows x 55 columns]\n"
     ]
    }
   ],
   "source": [
    "divorce_train = pd.read_csv(\"data/divorce.csv\", sep=\";\")\n",
    "\n",
    "print(divorce_train.head())"
   ]
  },
  {
   "cell_type": "markdown",
   "metadata": {},
   "source": [
    "Prepare data"
   ]
  },
  {
   "cell_type": "code",
   "execution_count": 66,
   "metadata": {},
   "outputs": [],
   "source": [
    "# Separate features from labels\n",
    "divorce_features = divorce_train.copy()\n",
    "divorce_labels = divorce_features.pop(\"Class\")\n",
    "\n",
    "# Take random indices for train/val/test\n",
    "N_SAMPLES = 170\n",
    "permutation = np.random.permutation(N_SAMPLES)\n",
    "TRAIN_VAL_SEP = math.floor(0.7 * N_SAMPLES)\n",
    "VAL_TEST_SEP = math.floor(0.85 * N_SAMPLES)\n",
    "train_indices = permutation[:TRAIN_VAL_SEP]\n",
    "validation_indices = permutation[TRAIN_VAL_SEP:VAL_TEST_SEP]\n",
    "test_indices = permutation[VAL_TEST_SEP:]\n",
    "\n",
    "# Take train/val/test form those random indices\n",
    "xs_train = divorce_features.loc[train_indices]\n",
    "ys_train = divorce_labels.loc[train_indices]\n",
    "\n",
    "xs_val = divorce_features.loc[validation_indices]\n",
    "ys_val = divorce_labels.loc[validation_indices]\n",
    "\n",
    "xs_test = divorce_features.loc[test_indices]\n",
    "ys_test = divorce_labels.loc[test_indices]"
   ]
  },
  {
   "cell_type": "markdown",
   "metadata": {},
   "source": [
    "Encode data"
   ]
  },
  {
   "cell_type": "code",
   "execution_count": 67,
   "metadata": {},
   "outputs": [],
   "source": [
    "def encode(v):\n",
    "    return tf.one_hot(v, 2)\n",
    "\n",
    "ys_train = encode(ys_train.to_numpy())\n",
    "ys_val = encode(ys_val.to_numpy())\n",
    "ys_test = encode(ys_test.to_numpy())"
   ]
  },
  {
   "cell_type": "markdown",
   "metadata": {},
   "source": [
    "Compile model"
   ]
  },
  {
   "cell_type": "code",
   "execution_count": 68,
   "metadata": {},
   "outputs": [],
   "source": [
    "divorce_model = tf.keras.Sequential()\n",
    "divorce_model.add(tf.keras.Input(shape=54, dtype=\"float32\"))\n",
    "divorce_model.add(tf.keras.layers.Dropout(0.95))\n",
    "divorce_model.add(tf.keras.layers.Dense(2, activation=\"ReLU\"))\n",
    "divorce_model.add(tf.keras.layers.Softmax())\n",
    "\n",
    "divorce_model.compile(\n",
    "    loss=tf.losses.BinaryCrossentropy(),\n",
    "    optimizer=tf.optimizers.Adam(),\n",
    "    metrics=[tf.keras.metrics.CategoricalAccuracy()],\n",
    ")"
   ]
  },
  {
   "cell_type": "markdown",
   "metadata": {},
   "source": [
    "train model"
   ]
  },
  {
   "cell_type": "code",
   "execution_count": 69,
   "metadata": {},
   "outputs": [
    {
     "name": "stdout",
     "output_type": "stream",
     "text": [
      "Epoch 1/1000\n",
      "118/118 [==============================] - 1s 3ms/step - loss: 2.4162 - categorical_accuracy: 0.6102 - val_loss: 0.6349 - val_categorical_accuracy: 0.6154\n",
      "Epoch 2/1000\n",
      "118/118 [==============================] - 0s 1ms/step - loss: 2.3432 - categorical_accuracy: 0.5932 - val_loss: 0.6122 - val_categorical_accuracy: 0.6154\n",
      "Epoch 3/1000\n",
      "118/118 [==============================] - 0s 1ms/step - loss: 1.6427 - categorical_accuracy: 0.6525 - val_loss: 0.6035 - val_categorical_accuracy: 0.6154\n",
      "Epoch 4/1000\n",
      "118/118 [==============================] - 0s 2ms/step - loss: 2.5209 - categorical_accuracy: 0.5593 - val_loss: 0.5722 - val_categorical_accuracy: 0.6538\n",
      "Epoch 5/1000\n",
      "118/118 [==============================] - 1s 5ms/step - loss: 2.3539 - categorical_accuracy: 0.5932 - val_loss: 0.5505 - val_categorical_accuracy: 0.6538\n",
      "Epoch 6/1000\n",
      "118/118 [==============================] - 0s 4ms/step - loss: 2.5047 - categorical_accuracy: 0.5847 - val_loss: 0.5182 - val_categorical_accuracy: 0.8077\n",
      "Epoch 7/1000\n",
      "118/118 [==============================] - 0s 2ms/step - loss: 2.2716 - categorical_accuracy: 0.6017 - val_loss: 0.5094 - val_categorical_accuracy: 0.8846\n",
      "Epoch 8/1000\n",
      "118/118 [==============================] - 0s 3ms/step - loss: 1.3009 - categorical_accuracy: 0.6780 - val_loss: 0.5047 - val_categorical_accuracy: 0.8462\n",
      "Epoch 9/1000\n",
      "118/118 [==============================] - 0s 3ms/step - loss: 1.1357 - categorical_accuracy: 0.7458 - val_loss: 0.4987 - val_categorical_accuracy: 0.8846\n",
      "Epoch 10/1000\n",
      "118/118 [==============================] - 0s 3ms/step - loss: 1.3291 - categorical_accuracy: 0.6356 - val_loss: 0.4937 - val_categorical_accuracy: 0.8846\n",
      "Epoch 11/1000\n",
      "118/118 [==============================] - 0s 3ms/step - loss: 1.3227 - categorical_accuracy: 0.6610 - val_loss: 0.4865 - val_categorical_accuracy: 0.8846\n",
      "Epoch 12/1000\n",
      "118/118 [==============================] - 0s 1ms/step - loss: 0.9729 - categorical_accuracy: 0.6949 - val_loss: 0.4795 - val_categorical_accuracy: 0.8846\n",
      "Epoch 13/1000\n",
      "118/118 [==============================] - 0s 1ms/step - loss: 1.1029 - categorical_accuracy: 0.7458 - val_loss: 0.4844 - val_categorical_accuracy: 0.8846\n",
      "Epoch 14/1000\n",
      "118/118 [==============================] - 0s 4ms/step - loss: 1.0650 - categorical_accuracy: 0.6356 - val_loss: 0.4802 - val_categorical_accuracy: 0.8846\n",
      "Epoch 15/1000\n",
      "118/118 [==============================] - 0s 4ms/step - loss: 1.0439 - categorical_accuracy: 0.6949 - val_loss: 0.4808 - val_categorical_accuracy: 0.8846\n",
      "Epoch 16/1000\n",
      "118/118 [==============================] - 0s 3ms/step - loss: 1.3614 - categorical_accuracy: 0.5932 - val_loss: 0.4744 - val_categorical_accuracy: 0.8846\n",
      "Epoch 17/1000\n",
      "118/118 [==============================] - 0s 2ms/step - loss: 1.0323 - categorical_accuracy: 0.6780 - val_loss: 0.4729 - val_categorical_accuracy: 0.8846\n",
      "Epoch 18/1000\n",
      "118/118 [==============================] - 0s 2ms/step - loss: 0.7501 - categorical_accuracy: 0.7542 - val_loss: 0.4763 - val_categorical_accuracy: 0.8846\n",
      "Epoch 19/1000\n",
      "118/118 [==============================] - 0s 2ms/step - loss: 1.0626 - categorical_accuracy: 0.6525 - val_loss: 0.4776 - val_categorical_accuracy: 0.8846\n",
      "Epoch 20/1000\n",
      "118/118 [==============================] - 0s 2ms/step - loss: 0.7359 - categorical_accuracy: 0.6949 - val_loss: 0.4758 - val_categorical_accuracy: 0.8846\n",
      "Epoch 21/1000\n",
      "118/118 [==============================] - 0s 2ms/step - loss: 0.8475 - categorical_accuracy: 0.7034 - val_loss: 0.4723 - val_categorical_accuracy: 0.8846\n",
      "Epoch 22/1000\n",
      "118/118 [==============================] - 0s 2ms/step - loss: 1.1823 - categorical_accuracy: 0.6186 - val_loss: 0.4695 - val_categorical_accuracy: 0.8846\n",
      "Epoch 23/1000\n",
      "118/118 [==============================] - 0s 2ms/step - loss: 0.7945 - categorical_accuracy: 0.6695 - val_loss: 0.4660 - val_categorical_accuracy: 0.8846\n",
      "Epoch 24/1000\n",
      "118/118 [==============================] - 0s 2ms/step - loss: 0.9738 - categorical_accuracy: 0.5678 - val_loss: 0.4567 - val_categorical_accuracy: 0.8846\n",
      "Epoch 25/1000\n",
      "118/118 [==============================] - 0s 2ms/step - loss: 0.7824 - categorical_accuracy: 0.6525 - val_loss: 0.4507 - val_categorical_accuracy: 0.8846\n",
      "Epoch 26/1000\n",
      "118/118 [==============================] - 0s 2ms/step - loss: 0.6969 - categorical_accuracy: 0.6186 - val_loss: 0.4473 - val_categorical_accuracy: 0.9231\n",
      "Epoch 27/1000\n",
      "118/118 [==============================] - 0s 2ms/step - loss: 0.7957 - categorical_accuracy: 0.6525 - val_loss: 0.4479 - val_categorical_accuracy: 0.9231\n",
      "Epoch 28/1000\n",
      "118/118 [==============================] - 0s 2ms/step - loss: 0.7506 - categorical_accuracy: 0.6610 - val_loss: 0.4476 - val_categorical_accuracy: 0.9615\n",
      "Epoch 29/1000\n",
      "118/118 [==============================] - 0s 2ms/step - loss: 0.7346 - categorical_accuracy: 0.5932 - val_loss: 0.4487 - val_categorical_accuracy: 0.9615\n",
      "Epoch 30/1000\n",
      "118/118 [==============================] - 0s 2ms/step - loss: 0.7146 - categorical_accuracy: 0.6780 - val_loss: 0.4481 - val_categorical_accuracy: 0.9615\n",
      "Epoch 31/1000\n",
      "118/118 [==============================] - 0s 2ms/step - loss: 0.6279 - categorical_accuracy: 0.7627 - val_loss: 0.4444 - val_categorical_accuracy: 0.9615\n",
      "Epoch 32/1000\n",
      "118/118 [==============================] - 0s 2ms/step - loss: 0.6880 - categorical_accuracy: 0.6610 - val_loss: 0.4420 - val_categorical_accuracy: 0.9615\n",
      "Epoch 33/1000\n",
      "118/118 [==============================] - 0s 2ms/step - loss: 0.5942 - categorical_accuracy: 0.7203 - val_loss: 0.4388 - val_categorical_accuracy: 0.9615\n",
      "Epoch 34/1000\n",
      "118/118 [==============================] - 0s 2ms/step - loss: 0.6092 - categorical_accuracy: 0.6695 - val_loss: 0.4377 - val_categorical_accuracy: 0.9615\n",
      "Epoch 35/1000\n",
      "118/118 [==============================] - 0s 2ms/step - loss: 0.5459 - categorical_accuracy: 0.7373 - val_loss: 0.4363 - val_categorical_accuracy: 0.9615\n",
      "Epoch 36/1000\n",
      "118/118 [==============================] - 0s 2ms/step - loss: 0.6003 - categorical_accuracy: 0.6864 - val_loss: 0.4333 - val_categorical_accuracy: 0.9615\n",
      "Epoch 37/1000\n",
      "118/118 [==============================] - 0s 2ms/step - loss: 0.5408 - categorical_accuracy: 0.7288 - val_loss: 0.4318 - val_categorical_accuracy: 0.9615\n",
      "Epoch 38/1000\n",
      "118/118 [==============================] - 0s 2ms/step - loss: 0.7494 - categorical_accuracy: 0.7119 - val_loss: 0.4300 - val_categorical_accuracy: 0.9615\n",
      "Epoch 39/1000\n",
      "118/118 [==============================] - 0s 2ms/step - loss: 0.5995 - categorical_accuracy: 0.7203 - val_loss: 0.4328 - val_categorical_accuracy: 0.9615\n",
      "Epoch 40/1000\n",
      "118/118 [==============================] - 0s 2ms/step - loss: 0.5443 - categorical_accuracy: 0.7203 - val_loss: 0.4318 - val_categorical_accuracy: 0.9615\n",
      "Epoch 41/1000\n",
      "118/118 [==============================] - 0s 2ms/step - loss: 0.5657 - categorical_accuracy: 0.7119 - val_loss: 0.4300 - val_categorical_accuracy: 0.9615\n",
      "Epoch 42/1000\n",
      "118/118 [==============================] - 0s 2ms/step - loss: 0.5569 - categorical_accuracy: 0.7203 - val_loss: 0.4284 - val_categorical_accuracy: 0.9615\n",
      "Epoch 43/1000\n",
      "118/118 [==============================] - 0s 2ms/step - loss: 0.7632 - categorical_accuracy: 0.6695 - val_loss: 0.4279 - val_categorical_accuracy: 0.9615\n",
      "Epoch 44/1000\n",
      "118/118 [==============================] - 0s 2ms/step - loss: 0.5665 - categorical_accuracy: 0.7373 - val_loss: 0.4276 - val_categorical_accuracy: 0.9615\n",
      "Epoch 45/1000\n",
      "118/118 [==============================] - 0s 2ms/step - loss: 0.6006 - categorical_accuracy: 0.6949 - val_loss: 0.4240 - val_categorical_accuracy: 0.9615\n",
      "Epoch 46/1000\n",
      "118/118 [==============================] - 0s 2ms/step - loss: 0.4949 - categorical_accuracy: 0.7966 - val_loss: 0.4230 - val_categorical_accuracy: 0.9615\n",
      "Epoch 47/1000\n",
      "118/118 [==============================] - 0s 2ms/step - loss: 0.5538 - categorical_accuracy: 0.7288 - val_loss: 0.4209 - val_categorical_accuracy: 0.9615\n",
      "Epoch 48/1000\n",
      "118/118 [==============================] - 0s 2ms/step - loss: 0.6113 - categorical_accuracy: 0.7119 - val_loss: 0.4189 - val_categorical_accuracy: 0.9615\n",
      "Epoch 49/1000\n",
      "118/118 [==============================] - 0s 2ms/step - loss: 0.6330 - categorical_accuracy: 0.7373 - val_loss: 0.4172 - val_categorical_accuracy: 0.9615\n",
      "Epoch 50/1000\n",
      "118/118 [==============================] - 0s 2ms/step - loss: 0.4878 - categorical_accuracy: 0.8051 - val_loss: 0.4163 - val_categorical_accuracy: 0.9615\n",
      "Epoch 51/1000\n",
      "118/118 [==============================] - 0s 2ms/step - loss: 0.5867 - categorical_accuracy: 0.7373 - val_loss: 0.4162 - val_categorical_accuracy: 0.9615\n",
      "Epoch 52/1000\n",
      "118/118 [==============================] - 0s 2ms/step - loss: 0.5249 - categorical_accuracy: 0.7458 - val_loss: 0.4189 - val_categorical_accuracy: 0.9615\n",
      "Epoch 53/1000\n",
      "118/118 [==============================] - 0s 2ms/step - loss: 0.5258 - categorical_accuracy: 0.7712 - val_loss: 0.4208 - val_categorical_accuracy: 0.9615\n",
      "Epoch 54/1000\n",
      "118/118 [==============================] - 0s 2ms/step - loss: 0.6267 - categorical_accuracy: 0.7203 - val_loss: 0.4186 - val_categorical_accuracy: 0.9615\n",
      "Epoch 55/1000\n",
      "118/118 [==============================] - 0s 2ms/step - loss: 0.5127 - categorical_accuracy: 0.7288 - val_loss: 0.4178 - val_categorical_accuracy: 0.9615\n",
      "Epoch 56/1000\n",
      "118/118 [==============================] - 0s 2ms/step - loss: 0.4996 - categorical_accuracy: 0.7797 - val_loss: 0.4185 - val_categorical_accuracy: 0.9615\n",
      "Epoch 57/1000\n",
      "118/118 [==============================] - 0s 2ms/step - loss: 0.4896 - categorical_accuracy: 0.7797 - val_loss: 0.4171 - val_categorical_accuracy: 0.9615\n",
      "Epoch 58/1000\n",
      "118/118 [==============================] - 0s 2ms/step - loss: 0.6048 - categorical_accuracy: 0.6949 - val_loss: 0.4162 - val_categorical_accuracy: 0.9615\n",
      "Epoch 59/1000\n",
      "118/118 [==============================] - 0s 2ms/step - loss: 0.5406 - categorical_accuracy: 0.7542 - val_loss: 0.4164 - val_categorical_accuracy: 0.9615\n",
      "Epoch 60/1000\n",
      "118/118 [==============================] - 0s 2ms/step - loss: 0.6210 - categorical_accuracy: 0.6949 - val_loss: 0.4156 - val_categorical_accuracy: 0.9615\n",
      "Epoch 61/1000\n",
      "118/118 [==============================] - 0s 2ms/step - loss: 0.5381 - categorical_accuracy: 0.7542 - val_loss: 0.4151 - val_categorical_accuracy: 0.9615\n",
      "Epoch 62/1000\n",
      "118/118 [==============================] - 0s 2ms/step - loss: 0.5282 - categorical_accuracy: 0.7881 - val_loss: 0.4164 - val_categorical_accuracy: 0.9615\n",
      "Epoch 63/1000\n",
      "118/118 [==============================] - 0s 2ms/step - loss: 0.5117 - categorical_accuracy: 0.7627 - val_loss: 0.4148 - val_categorical_accuracy: 0.9615\n",
      "Epoch 64/1000\n",
      "118/118 [==============================] - 0s 2ms/step - loss: 0.5832 - categorical_accuracy: 0.7966 - val_loss: 0.4147 - val_categorical_accuracy: 0.9615\n",
      "Epoch 65/1000\n",
      "118/118 [==============================] - 0s 2ms/step - loss: 0.5577 - categorical_accuracy: 0.7458 - val_loss: 0.4114 - val_categorical_accuracy: 0.9615\n",
      "Epoch 66/1000\n",
      "118/118 [==============================] - 0s 2ms/step - loss: 0.5208 - categorical_accuracy: 0.7966 - val_loss: 0.4102 - val_categorical_accuracy: 0.9615\n",
      "Epoch 67/1000\n",
      "118/118 [==============================] - 0s 2ms/step - loss: 0.5259 - categorical_accuracy: 0.7712 - val_loss: 0.4109 - val_categorical_accuracy: 0.9615\n",
      "Epoch 68/1000\n",
      "118/118 [==============================] - 0s 2ms/step - loss: 0.4890 - categorical_accuracy: 0.7627 - val_loss: 0.4121 - val_categorical_accuracy: 0.9615\n",
      "Epoch 69/1000\n",
      "118/118 [==============================] - 0s 2ms/step - loss: 0.5297 - categorical_accuracy: 0.7797 - val_loss: 0.4108 - val_categorical_accuracy: 0.9615\n",
      "Epoch 70/1000\n",
      "118/118 [==============================] - 0s 2ms/step - loss: 0.5330 - categorical_accuracy: 0.7797 - val_loss: 0.4142 - val_categorical_accuracy: 0.9615\n",
      "Epoch 71/1000\n",
      "118/118 [==============================] - 0s 2ms/step - loss: 0.5229 - categorical_accuracy: 0.7712 - val_loss: 0.4135 - val_categorical_accuracy: 0.9231\n",
      "Epoch 72/1000\n",
      "118/118 [==============================] - 0s 2ms/step - loss: 0.5409 - categorical_accuracy: 0.7712 - val_loss: 0.4156 - val_categorical_accuracy: 0.9231\n",
      "Epoch 73/1000\n",
      "118/118 [==============================] - 0s 2ms/step - loss: 0.5944 - categorical_accuracy: 0.7542 - val_loss: 0.4121 - val_categorical_accuracy: 0.9231\n",
      "Epoch 74/1000\n",
      "118/118 [==============================] - 0s 2ms/step - loss: 0.4531 - categorical_accuracy: 0.8559 - val_loss: 0.4150 - val_categorical_accuracy: 0.9231\n",
      "Epoch 75/1000\n",
      "118/118 [==============================] - 0s 2ms/step - loss: 0.5999 - categorical_accuracy: 0.6356 - val_loss: 0.4072 - val_categorical_accuracy: 0.9615\n",
      "Epoch 76/1000\n",
      "118/118 [==============================] - 0s 2ms/step - loss: 0.6044 - categorical_accuracy: 0.7627 - val_loss: 0.4090 - val_categorical_accuracy: 0.9231\n",
      "Epoch 77/1000\n",
      "118/118 [==============================] - 0s 2ms/step - loss: 0.5221 - categorical_accuracy: 0.7034 - val_loss: 0.4116 - val_categorical_accuracy: 0.9231\n",
      "Epoch 78/1000\n",
      "118/118 [==============================] - 0s 2ms/step - loss: 0.5158 - categorical_accuracy: 0.8220 - val_loss: 0.4097 - val_categorical_accuracy: 0.9231\n",
      "Epoch 79/1000\n",
      "118/118 [==============================] - 0s 2ms/step - loss: 0.5766 - categorical_accuracy: 0.7797 - val_loss: 0.4109 - val_categorical_accuracy: 0.9231\n",
      "Epoch 80/1000\n",
      "118/118 [==============================] - 0s 2ms/step - loss: 0.4574 - categorical_accuracy: 0.7881 - val_loss: 0.4096 - val_categorical_accuracy: 0.9231\n",
      "Epoch 81/1000\n",
      "118/118 [==============================] - 0s 2ms/step - loss: 0.4932 - categorical_accuracy: 0.7627 - val_loss: 0.4045 - val_categorical_accuracy: 0.9231\n",
      "Epoch 82/1000\n",
      "118/118 [==============================] - 0s 2ms/step - loss: 0.4721 - categorical_accuracy: 0.8136 - val_loss: 0.4030 - val_categorical_accuracy: 0.9615\n",
      "Epoch 83/1000\n",
      "118/118 [==============================] - 0s 2ms/step - loss: 0.3677 - categorical_accuracy: 0.8644 - val_loss: 0.4043 - val_categorical_accuracy: 0.9615\n",
      "Epoch 84/1000\n",
      "118/118 [==============================] - 0s 2ms/step - loss: 0.5191 - categorical_accuracy: 0.7627 - val_loss: 0.4040 - val_categorical_accuracy: 0.9615\n",
      "Epoch 85/1000\n",
      "118/118 [==============================] - 0s 2ms/step - loss: 0.5204 - categorical_accuracy: 0.7542 - val_loss: 0.4116 - val_categorical_accuracy: 0.9231\n",
      "Epoch 86/1000\n",
      "118/118 [==============================] - 0s 2ms/step - loss: 0.5076 - categorical_accuracy: 0.8305 - val_loss: 0.4078 - val_categorical_accuracy: 0.9231\n",
      "Epoch 87/1000\n",
      "118/118 [==============================] - 0s 2ms/step - loss: 0.4290 - categorical_accuracy: 0.8220 - val_loss: 0.4108 - val_categorical_accuracy: 0.9231\n",
      "Epoch 88/1000\n",
      "118/118 [==============================] - 0s 2ms/step - loss: 0.4814 - categorical_accuracy: 0.7712 - val_loss: 0.4069 - val_categorical_accuracy: 0.9231\n",
      "Epoch 89/1000\n",
      "118/118 [==============================] - 0s 2ms/step - loss: 0.4890 - categorical_accuracy: 0.7881 - val_loss: 0.4092 - val_categorical_accuracy: 0.9231\n",
      "Epoch 90/1000\n",
      "118/118 [==============================] - 0s 2ms/step - loss: 0.3713 - categorical_accuracy: 0.8475 - val_loss: 0.4120 - val_categorical_accuracy: 0.9231\n",
      "Epoch 91/1000\n",
      "118/118 [==============================] - 0s 2ms/step - loss: 0.5852 - categorical_accuracy: 0.7203 - val_loss: 0.4194 - val_categorical_accuracy: 0.8846\n",
      "Epoch 92/1000\n",
      "118/118 [==============================] - 0s 2ms/step - loss: 0.4678 - categorical_accuracy: 0.7797 - val_loss: 0.4218 - val_categorical_accuracy: 0.9231\n",
      "Epoch 93/1000\n",
      "118/118 [==============================] - 0s 2ms/step - loss: 0.4790 - categorical_accuracy: 0.7881 - val_loss: 0.4147 - val_categorical_accuracy: 0.9231\n",
      "Epoch 94/1000\n",
      "118/118 [==============================] - 0s 2ms/step - loss: 0.4200 - categorical_accuracy: 0.8136 - val_loss: 0.4125 - val_categorical_accuracy: 0.9231\n",
      "Epoch 95/1000\n",
      "118/118 [==============================] - 0s 2ms/step - loss: 0.4759 - categorical_accuracy: 0.8305 - val_loss: 0.4124 - val_categorical_accuracy: 0.9231\n",
      "Epoch 96/1000\n",
      "118/118 [==============================] - 0s 2ms/step - loss: 0.4297 - categorical_accuracy: 0.8136 - val_loss: 0.4163 - val_categorical_accuracy: 0.9231\n",
      "Epoch 97/1000\n",
      "118/118 [==============================] - 0s 3ms/step - loss: 0.4842 - categorical_accuracy: 0.7712 - val_loss: 0.4130 - val_categorical_accuracy: 0.9615\n",
      "Epoch 98/1000\n",
      "118/118 [==============================] - 0s 2ms/step - loss: 0.4918 - categorical_accuracy: 0.8305 - val_loss: 0.4123 - val_categorical_accuracy: 0.9615\n",
      "Epoch 99/1000\n",
      "118/118 [==============================] - 0s 2ms/step - loss: 0.4963 - categorical_accuracy: 0.8305 - val_loss: 0.4115 - val_categorical_accuracy: 0.9231\n",
      "Epoch 100/1000\n",
      "118/118 [==============================] - 0s 2ms/step - loss: 0.4117 - categorical_accuracy: 0.8390 - val_loss: 0.4203 - val_categorical_accuracy: 0.8846\n",
      "Epoch 101/1000\n",
      "118/118 [==============================] - 0s 2ms/step - loss: 0.3902 - categorical_accuracy: 0.8390 - val_loss: 0.4224 - val_categorical_accuracy: 0.8846\n",
      "Epoch 102/1000\n",
      "118/118 [==============================] - 0s 2ms/step - loss: 0.4132 - categorical_accuracy: 0.8559 - val_loss: 0.4200 - val_categorical_accuracy: 0.8846\n",
      "Epoch 103/1000\n",
      "118/118 [==============================] - 0s 2ms/step - loss: 0.4794 - categorical_accuracy: 0.8475 - val_loss: 0.4140 - val_categorical_accuracy: 0.9231\n",
      "Epoch 104/1000\n",
      "118/118 [==============================] - 0s 2ms/step - loss: 0.4387 - categorical_accuracy: 0.8305 - val_loss: 0.4060 - val_categorical_accuracy: 0.9615\n",
      "Epoch 105/1000\n",
      "118/118 [==============================] - 0s 2ms/step - loss: 0.4611 - categorical_accuracy: 0.8305 - val_loss: 0.4055 - val_categorical_accuracy: 0.9615\n",
      "Epoch 106/1000\n",
      "118/118 [==============================] - 0s 2ms/step - loss: 0.4750 - categorical_accuracy: 0.8220 - val_loss: 0.4072 - val_categorical_accuracy: 0.9615\n",
      "Epoch 107/1000\n",
      "118/118 [==============================] - 0s 2ms/step - loss: 0.4911 - categorical_accuracy: 0.7712 - val_loss: 0.4078 - val_categorical_accuracy: 0.9615\n",
      "Epoch 108/1000\n",
      "118/118 [==============================] - 0s 2ms/step - loss: 0.3907 - categorical_accuracy: 0.8814 - val_loss: 0.4096 - val_categorical_accuracy: 0.9615\n",
      "Epoch 109/1000\n",
      "118/118 [==============================] - 0s 2ms/step - loss: 0.4499 - categorical_accuracy: 0.8644 - val_loss: 0.4080 - val_categorical_accuracy: 0.9615\n",
      "Epoch 110/1000\n",
      "118/118 [==============================] - 0s 2ms/step - loss: 0.4094 - categorical_accuracy: 0.8051 - val_loss: 0.4066 - val_categorical_accuracy: 0.9615\n",
      "Epoch 111/1000\n",
      "118/118 [==============================] - 0s 2ms/step - loss: 0.4538 - categorical_accuracy: 0.8136 - val_loss: 0.4075 - val_categorical_accuracy: 0.9615\n",
      "Epoch 112/1000\n",
      "118/118 [==============================] - 0s 2ms/step - loss: 0.4653 - categorical_accuracy: 0.8051 - val_loss: 0.4067 - val_categorical_accuracy: 0.9615\n",
      "Epoch 113/1000\n",
      "118/118 [==============================] - 0s 2ms/step - loss: 0.4060 - categorical_accuracy: 0.8305 - val_loss: 0.4075 - val_categorical_accuracy: 0.9615\n"
     ]
    },
    {
     "data": {
      "text/plain": [
       "<keras.callbacks.History at 0x1c9e660abb0>"
      ]
     },
     "execution_count": 69,
     "metadata": {},
     "output_type": "execute_result"
    }
   ],
   "source": [
    "EPOCHS = 1000\n",
    "BATCH_SIZE = 1\n",
    "callback = tf.keras.callbacks.EarlyStopping(monitor='loss', patience=30)\n",
    "\n",
    "divorce_model.fit(\n",
    "    x=xs_train,\n",
    "    y=ys_train,\n",
    "    validation_data=(xs_val, ys_val),\n",
    "    batch_size=BATCH_SIZE,\n",
    "    epochs=EPOCHS,\n",
    "    shuffle=True,\n",
    "    callbacks=[callback]\n",
    ")"
   ]
  },
  {
   "cell_type": "markdown",
   "metadata": {},
   "source": []
  },
  {
   "cell_type": "markdown",
   "metadata": {},
   "source": [
    "Evaluate model"
   ]
  },
  {
   "cell_type": "code",
   "execution_count": 70,
   "metadata": {},
   "outputs": [
    {
     "name": "stdout",
     "output_type": "stream",
     "text": [
      "\n",
      " Model evaluation test results\n",
      "1/1 [==============================] - 0s 122ms/step - loss: 0.3921 - categorical_accuracy: 1.0000\n"
     ]
    },
    {
     "data": {
      "text/plain": [
       "[0.3920785188674927, 1.0]"
      ]
     },
     "execution_count": 70,
     "metadata": {},
     "output_type": "execute_result"
    }
   ],
   "source": [
    "print('\\n Model evaluation test results')\n",
    "divorce_model.evaluate(xs_test, ys_test)"
   ]
  },
  {
   "cell_type": "markdown",
   "metadata": {},
   "source": [
    "Sample prediction"
   ]
  },
  {
   "cell_type": "code",
   "execution_count": 71,
   "metadata": {},
   "outputs": [
    {
     "name": "stdout",
     "output_type": "stream",
     "text": [
      "Sample input (divorce questionnaire response)\n",
      "[2 0 2 0 0 0 0 0 0 2 0 0 2 0 0 1 1 0 0 0 1 1 0 0 0 0 0 0 0 0 1 1 0 1 1 1 1\n",
      " 0 1 1 0 2 1 0 0 3 2 2 1 1 1 1 2 1]\n",
      "\n",
      "Sample divorce prediction [yes no]\n",
      "[0.5 0.5]\n",
      "\n",
      "Actual class (one-hot encoded)\n",
      "tf.Tensor([1. 0.], shape=(2,), dtype=float32)\n"
     ]
    }
   ],
   "source": [
    "print(\"Sample input (divorce questionnaire response)\")\n",
    "print(xs_test.to_numpy()[0])\n",
    "print(\"\\nSample divorce prediction [yes no]\")\n",
    "print(divorce_model.predict(xs_test)[0])\n",
    "print(\"\\nActual class (one-hot encoded)\")\n",
    "print(ys_test[0])"
   ]
  },
  {
   "cell_type": "markdown",
   "metadata": {},
   "source": [
    "Save model"
   ]
  },
  {
   "cell_type": "code",
   "execution_count": 72,
   "metadata": {},
   "outputs": [],
   "source": [
    "divorce_model.save('nnModel/divorce_model.h5')"
   ]
  },
  {
   "cell_type": "markdown",
   "metadata": {},
   "source": [
    "Convert to tfjs (optional but used in client-side deployment)"
   ]
  },
  {
   "cell_type": "code",
   "execution_count": 73,
   "metadata": {},
   "outputs": [],
   "source": [
    "tfjs.converters.save_keras_model(divorce_model, 'tfjs')"
   ]
  }
 ],
 "metadata": {
  "interpreter": {
   "hash": "c2d7d91f3408f3314cd4551229bc17f807d1b83d3fd61e9bf22d33a46feb6fc7"
  },
  "kernelspec": {
   "display_name": "Python 3.9.7 64-bit ('divorcePred': conda)",
   "language": "python",
   "name": "python3"
  },
  "language_info": {
   "codemirror_mode": {
    "name": "ipython",
    "version": 3
   },
   "file_extension": ".py",
   "mimetype": "text/x-python",
   "name": "python",
   "nbconvert_exporter": "python",
   "pygments_lexer": "ipython3",
   "version": "3.9.7"
  },
  "orig_nbformat": 4
 },
 "nbformat": 4,
 "nbformat_minor": 2
}
