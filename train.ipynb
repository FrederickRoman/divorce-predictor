{
 "cells": [
  {
   "cell_type": "markdown",
   "metadata": {},
   "source": [
    "It trains a feedforward neural network on the [UCI Divorce Predictors data set Data Set](https://archive.ics.uci.edu/ml/datasets/Divorce+Predictors+data+set), then the model is converted to tfjs in order to be deployed to client-side website. That website is [Divorsee](https://divorsee.netlify.app) and its code can be found in its own [repository](https://github.com/FrederickRoman/Divorsee)."
   ]
  },
  {
   "cell_type": "markdown",
   "metadata": {},
   "source": [
    "Import dependencies"
   ]
  },
  {
   "cell_type": "code",
   "execution_count": 7,
   "metadata": {},
   "outputs": [],
   "source": [
    "import math\n",
    "import pandas as pd\n",
    "import numpy as np\n",
    "import tensorflow as tf\n",
    "import tensorflowjs as tfjs"
   ]
  },
  {
   "cell_type": "markdown",
   "metadata": {},
   "source": [
    "Load data"
   ]
  },
  {
   "cell_type": "code",
   "execution_count": 8,
   "metadata": {},
   "outputs": [
    {
     "name": "stdout",
     "output_type": "stream",
     "text": [
      "   Atr1  Atr2  Atr3  Atr4  Atr5  Atr6  Atr7  Atr8  Atr9  Atr10  ...  Atr46  \\\n",
      "0     2     2     4     1     0     0     0     0     0      0  ...      2   \n",
      "1     4     4     4     4     4     0     0     4     4      4  ...      2   \n",
      "2     2     2     2     2     1     3     2     1     1      2  ...      3   \n",
      "3     3     2     3     2     3     3     3     3     3      3  ...      2   \n",
      "4     2     2     1     1     1     1     0     0     0      0  ...      2   \n",
      "\n",
      "   Atr47  Atr48  Atr49  Atr50  Atr51  Atr52  Atr53  Atr54  Class  \n",
      "0      1      3      3      3      2      3      2      1      1  \n",
      "1      2      3      4      4      4      4      2      2      1  \n",
      "2      2      3      1      1      1      2      2      2      1  \n",
      "3      2      3      3      3      3      2      2      2      1  \n",
      "4      1      2      3      2      2      2      1      0      1  \n",
      "\n",
      "[5 rows x 55 columns]\n"
     ]
    }
   ],
   "source": [
    "divorce_train = pd.read_csv(\"data/divorce.csv\", sep=\";\")\n",
    "\n",
    "print(divorce_train.head())"
   ]
  },
  {
   "cell_type": "markdown",
   "metadata": {},
   "source": [
    "Prepare data"
   ]
  },
  {
   "cell_type": "code",
   "execution_count": 9,
   "metadata": {},
   "outputs": [],
   "source": [
    "# Separate features from labels\n",
    "divorce_features = divorce_train.copy()\n",
    "divorce_labels = divorce_features.pop(\"Class\")\n",
    "\n",
    "# Take random indices for train/val/test\n",
    "N_SAMPLES = 170\n",
    "permutation = np.random.permutation(N_SAMPLES)\n",
    "TRAIN_VAL_SEP = math.floor(0.7 * N_SAMPLES)\n",
    "VAL_TEST_SEP = math.floor(0.85 * N_SAMPLES)\n",
    "train_indices = permutation[:TRAIN_VAL_SEP]\n",
    "validation_indices = permutation[TRAIN_VAL_SEP:VAL_TEST_SEP]\n",
    "test_indices = permutation[VAL_TEST_SEP:]\n",
    "\n",
    "# Take train/val/test form those random indices\n",
    "xs_train = divorce_features.loc[train_indices]\n",
    "ys_train = divorce_labels.loc[train_indices]\n",
    "\n",
    "xs_val = divorce_features.loc[validation_indices]\n",
    "ys_val = divorce_labels.loc[validation_indices]\n",
    "\n",
    "xs_test = divorce_features.loc[test_indices]\n",
    "ys_test = divorce_labels.loc[test_indices]"
   ]
  },
  {
   "cell_type": "markdown",
   "metadata": {},
   "source": [
    "Encode data"
   ]
  },
  {
   "cell_type": "code",
   "execution_count": 10,
   "metadata": {},
   "outputs": [],
   "source": [
    "def encode(v):\n",
    "    return tf.one_hot(v, 2)\n",
    "\n",
    "ys_train = encode(ys_train.to_numpy())\n",
    "ys_val = encode(ys_val.to_numpy())\n",
    "ys_test = encode(ys_test.to_numpy())"
   ]
  },
  {
   "cell_type": "markdown",
   "metadata": {},
   "source": [
    "Compile model"
   ]
  },
  {
   "cell_type": "code",
   "execution_count": 11,
   "metadata": {},
   "outputs": [],
   "source": [
    "divorce_model = tf.keras.Sequential()\n",
    "divorce_model.add(tf.keras.Input(shape=54, dtype=\"float32\"))\n",
    "divorce_model.add(tf.keras.layers.Dropout(0.95))\n",
    "divorce_model.add(tf.keras.layers.Dense(2, activation=\"ReLU\"))\n",
    "divorce_model.add(tf.keras.layers.Softmax())\n",
    "\n",
    "divorce_model.compile(\n",
    "    loss=tf.losses.BinaryCrossentropy(),\n",
    "    optimizer=tf.optimizers.Adam(),\n",
    "    metrics=[tf.keras.metrics.CategoricalAccuracy()],\n",
    ")"
   ]
  },
  {
   "cell_type": "markdown",
   "metadata": {},
   "source": [
    "train model"
   ]
  },
  {
   "cell_type": "code",
   "execution_count": 12,
   "metadata": {},
   "outputs": [
    {
     "name": "stdout",
     "output_type": "stream",
     "text": [
      "Epoch 1/1000\n",
      "118/118 [==============================] - 1s 3ms/step - loss: 2.9501 - categorical_accuracy: 0.5508 - val_loss: 2.1976 - val_categorical_accuracy: 0.3846\n",
      "Epoch 2/1000\n",
      "118/118 [==============================] - 0s 2ms/step - loss: 3.1792 - categorical_accuracy: 0.4831 - val_loss: 1.7339 - val_categorical_accuracy: 0.3846\n",
      "Epoch 3/1000\n",
      "118/118 [==============================] - 0s 2ms/step - loss: 3.1063 - categorical_accuracy: 0.5339 - val_loss: 1.0669 - val_categorical_accuracy: 0.3846\n",
      "Epoch 4/1000\n",
      "118/118 [==============================] - 0s 2ms/step - loss: 2.8041 - categorical_accuracy: 0.5339 - val_loss: 0.7263 - val_categorical_accuracy: 0.3846\n",
      "Epoch 5/1000\n",
      "118/118 [==============================] - 0s 2ms/step - loss: 2.6412 - categorical_accuracy: 0.5254 - val_loss: 0.6876 - val_categorical_accuracy: 0.3846\n",
      "Epoch 6/1000\n",
      "118/118 [==============================] - 0s 2ms/step - loss: 1.9676 - categorical_accuracy: 0.6271 - val_loss: 0.6885 - val_categorical_accuracy: 0.3846\n",
      "Epoch 7/1000\n",
      "118/118 [==============================] - 0s 2ms/step - loss: 2.4518 - categorical_accuracy: 0.5593 - val_loss: 0.7226 - val_categorical_accuracy: 0.3846\n",
      "Epoch 8/1000\n",
      "118/118 [==============================] - 0s 2ms/step - loss: 2.6195 - categorical_accuracy: 0.5254 - val_loss: 0.7325 - val_categorical_accuracy: 0.3846\n",
      "Epoch 9/1000\n",
      "118/118 [==============================] - 0s 2ms/step - loss: 2.1847 - categorical_accuracy: 0.5085 - val_loss: 0.7541 - val_categorical_accuracy: 0.3846\n",
      "Epoch 10/1000\n",
      "118/118 [==============================] - 0s 2ms/step - loss: 1.6897 - categorical_accuracy: 0.5847 - val_loss: 0.7509 - val_categorical_accuracy: 0.3846\n",
      "Epoch 11/1000\n",
      "118/118 [==============================] - 0s 2ms/step - loss: 1.4780 - categorical_accuracy: 0.5763 - val_loss: 0.7442 - val_categorical_accuracy: 0.3846\n",
      "Epoch 12/1000\n",
      "118/118 [==============================] - 0s 2ms/step - loss: 2.1184 - categorical_accuracy: 0.5169 - val_loss: 0.7388 - val_categorical_accuracy: 0.4231\n",
      "Epoch 13/1000\n",
      "118/118 [==============================] - 0s 2ms/step - loss: 1.3541 - categorical_accuracy: 0.5932 - val_loss: 0.7357 - val_categorical_accuracy: 0.4231\n",
      "Epoch 14/1000\n",
      "118/118 [==============================] - 0s 2ms/step - loss: 1.5078 - categorical_accuracy: 0.6356 - val_loss: 0.7372 - val_categorical_accuracy: 0.4615\n",
      "Epoch 15/1000\n",
      "118/118 [==============================] - 0s 2ms/step - loss: 1.4221 - categorical_accuracy: 0.5678 - val_loss: 0.7351 - val_categorical_accuracy: 0.4231\n",
      "Epoch 16/1000\n",
      "118/118 [==============================] - 0s 2ms/step - loss: 1.4435 - categorical_accuracy: 0.5424 - val_loss: 0.7320 - val_categorical_accuracy: 0.4615\n",
      "Epoch 17/1000\n",
      "118/118 [==============================] - 0s 2ms/step - loss: 1.1215 - categorical_accuracy: 0.6017 - val_loss: 0.7315 - val_categorical_accuracy: 0.4615\n",
      "Epoch 18/1000\n",
      "118/118 [==============================] - 0s 2ms/step - loss: 0.7795 - categorical_accuracy: 0.6525 - val_loss: 0.7255 - val_categorical_accuracy: 0.4615\n",
      "Epoch 19/1000\n",
      "118/118 [==============================] - 0s 2ms/step - loss: 0.9693 - categorical_accuracy: 0.5932 - val_loss: 0.7181 - val_categorical_accuracy: 0.4615\n",
      "Epoch 20/1000\n",
      "118/118 [==============================] - 0s 2ms/step - loss: 1.1345 - categorical_accuracy: 0.6271 - val_loss: 0.7152 - val_categorical_accuracy: 0.5000\n",
      "Epoch 21/1000\n",
      "118/118 [==============================] - 0s 2ms/step - loss: 1.0031 - categorical_accuracy: 0.6102 - val_loss: 0.7094 - val_categorical_accuracy: 0.5000\n",
      "Epoch 22/1000\n",
      "118/118 [==============================] - 0s 2ms/step - loss: 0.9928 - categorical_accuracy: 0.6610 - val_loss: 0.7032 - val_categorical_accuracy: 0.5000\n",
      "Epoch 23/1000\n",
      "118/118 [==============================] - 0s 2ms/step - loss: 0.9726 - categorical_accuracy: 0.6102 - val_loss: 0.6764 - val_categorical_accuracy: 0.6923\n",
      "Epoch 24/1000\n",
      "118/118 [==============================] - 0s 2ms/step - loss: 1.1762 - categorical_accuracy: 0.6102 - val_loss: 0.6941 - val_categorical_accuracy: 0.5385\n",
      "Epoch 25/1000\n",
      "118/118 [==============================] - 0s 2ms/step - loss: 0.7998 - categorical_accuracy: 0.5763 - val_loss: 0.6944 - val_categorical_accuracy: 0.5385\n",
      "Epoch 26/1000\n",
      "118/118 [==============================] - 0s 3ms/step - loss: 0.8002 - categorical_accuracy: 0.6271 - val_loss: 0.6945 - val_categorical_accuracy: 0.5000\n",
      "Epoch 27/1000\n",
      "118/118 [==============================] - 0s 2ms/step - loss: 0.8645 - categorical_accuracy: 0.6271 - val_loss: 0.6898 - val_categorical_accuracy: 0.5385\n",
      "Epoch 28/1000\n",
      "118/118 [==============================] - 0s 2ms/step - loss: 0.7634 - categorical_accuracy: 0.5508 - val_loss: 0.6887 - val_categorical_accuracy: 0.5385\n",
      "Epoch 29/1000\n",
      "118/118 [==============================] - 0s 2ms/step - loss: 0.7579 - categorical_accuracy: 0.6441 - val_loss: 0.6833 - val_categorical_accuracy: 0.6154\n",
      "Epoch 30/1000\n",
      "118/118 [==============================] - 0s 2ms/step - loss: 0.6928 - categorical_accuracy: 0.6186 - val_loss: 0.6927 - val_categorical_accuracy: 0.5385\n",
      "Epoch 31/1000\n",
      "118/118 [==============================] - 0s 2ms/step - loss: 0.8345 - categorical_accuracy: 0.5932 - val_loss: 0.6933 - val_categorical_accuracy: 0.5385\n",
      "Epoch 32/1000\n",
      "118/118 [==============================] - 0s 2ms/step - loss: 0.6951 - categorical_accuracy: 0.6186 - val_loss: 0.6931 - val_categorical_accuracy: 0.5385\n",
      "Epoch 33/1000\n",
      "118/118 [==============================] - 0s 2ms/step - loss: 0.6529 - categorical_accuracy: 0.6441 - val_loss: 0.6931 - val_categorical_accuracy: 0.5385\n",
      "Epoch 34/1000\n",
      "118/118 [==============================] - 0s 2ms/step - loss: 0.7127 - categorical_accuracy: 0.6356 - val_loss: 0.6931 - val_categorical_accuracy: 0.5385\n",
      "Epoch 35/1000\n",
      "118/118 [==============================] - 0s 2ms/step - loss: 0.6750 - categorical_accuracy: 0.6525 - val_loss: 0.6931 - val_categorical_accuracy: 0.5385\n",
      "Epoch 36/1000\n",
      "118/118 [==============================] - 0s 2ms/step - loss: 0.6607 - categorical_accuracy: 0.6525 - val_loss: 0.6931 - val_categorical_accuracy: 0.5385\n",
      "Epoch 37/1000\n",
      "118/118 [==============================] - 0s 2ms/step - loss: 0.7305 - categorical_accuracy: 0.6864 - val_loss: 0.6931 - val_categorical_accuracy: 0.5385\n",
      "Epoch 38/1000\n",
      "118/118 [==============================] - 0s 2ms/step - loss: 0.6720 - categorical_accuracy: 0.6271 - val_loss: 0.6912 - val_categorical_accuracy: 0.6154\n",
      "Epoch 39/1000\n",
      "118/118 [==============================] - 0s 2ms/step - loss: 0.6093 - categorical_accuracy: 0.6864 - val_loss: 0.6931 - val_categorical_accuracy: 0.5385\n",
      "Epoch 40/1000\n",
      "118/118 [==============================] - 0s 2ms/step - loss: 0.6614 - categorical_accuracy: 0.6441 - val_loss: 0.6931 - val_categorical_accuracy: 0.5385\n",
      "Epoch 41/1000\n",
      "118/118 [==============================] - 0s 2ms/step - loss: 0.6027 - categorical_accuracy: 0.6780 - val_loss: 0.6931 - val_categorical_accuracy: 0.5385\n",
      "Epoch 42/1000\n",
      "118/118 [==============================] - 0s 2ms/step - loss: 0.6436 - categorical_accuracy: 0.6356 - val_loss: 0.6931 - val_categorical_accuracy: 0.5385\n",
      "Epoch 43/1000\n",
      "118/118 [==============================] - 0s 2ms/step - loss: 0.6529 - categorical_accuracy: 0.6102 - val_loss: 0.6931 - val_categorical_accuracy: 0.5385\n",
      "Epoch 44/1000\n",
      "118/118 [==============================] - 0s 2ms/step - loss: 0.6272 - categorical_accuracy: 0.6780 - val_loss: 0.6931 - val_categorical_accuracy: 0.5385\n",
      "Epoch 45/1000\n",
      "118/118 [==============================] - 0s 2ms/step - loss: 0.6739 - categorical_accuracy: 0.5678 - val_loss: 0.6931 - val_categorical_accuracy: 0.5385\n",
      "Epoch 46/1000\n",
      "118/118 [==============================] - 0s 2ms/step - loss: 0.6296 - categorical_accuracy: 0.6441 - val_loss: 0.6931 - val_categorical_accuracy: 0.5385\n",
      "Epoch 47/1000\n",
      "118/118 [==============================] - 0s 2ms/step - loss: 0.6328 - categorical_accuracy: 0.6695 - val_loss: 0.6931 - val_categorical_accuracy: 0.5385\n",
      "Epoch 48/1000\n",
      "118/118 [==============================] - 0s 2ms/step - loss: 0.6950 - categorical_accuracy: 0.6356 - val_loss: 0.6931 - val_categorical_accuracy: 0.5385\n",
      "Epoch 49/1000\n",
      "118/118 [==============================] - 0s 2ms/step - loss: 0.5672 - categorical_accuracy: 0.6695 - val_loss: 0.6931 - val_categorical_accuracy: 0.5385\n",
      "Epoch 50/1000\n",
      "118/118 [==============================] - 0s 3ms/step - loss: 0.6835 - categorical_accuracy: 0.6102 - val_loss: 0.6931 - val_categorical_accuracy: 0.5385\n",
      "Epoch 51/1000\n",
      "118/118 [==============================] - 0s 2ms/step - loss: 0.6156 - categorical_accuracy: 0.6441 - val_loss: 0.6931 - val_categorical_accuracy: 0.5385\n",
      "Epoch 52/1000\n",
      "118/118 [==============================] - 0s 2ms/step - loss: 0.5360 - categorical_accuracy: 0.6780 - val_loss: 0.6931 - val_categorical_accuracy: 0.5385\n",
      "Epoch 53/1000\n",
      "118/118 [==============================] - 0s 2ms/step - loss: 0.5989 - categorical_accuracy: 0.6271 - val_loss: 0.6931 - val_categorical_accuracy: 0.5385\n",
      "Epoch 54/1000\n",
      "118/118 [==============================] - 0s 2ms/step - loss: 0.5521 - categorical_accuracy: 0.6695 - val_loss: 0.6785 - val_categorical_accuracy: 0.6923\n",
      "Epoch 55/1000\n",
      "118/118 [==============================] - 0s 2ms/step - loss: 0.5877 - categorical_accuracy: 0.6271 - val_loss: 0.5942 - val_categorical_accuracy: 0.9231\n",
      "Epoch 56/1000\n",
      "118/118 [==============================] - 0s 2ms/step - loss: 0.5492 - categorical_accuracy: 0.7203 - val_loss: 0.5646 - val_categorical_accuracy: 0.9615\n",
      "Epoch 57/1000\n",
      "118/118 [==============================] - 0s 2ms/step - loss: 0.6500 - categorical_accuracy: 0.6610 - val_loss: 0.5819 - val_categorical_accuracy: 0.9615\n",
      "Epoch 58/1000\n",
      "118/118 [==============================] - 0s 2ms/step - loss: 0.5958 - categorical_accuracy: 0.6695 - val_loss: 0.4922 - val_categorical_accuracy: 1.0000\n",
      "Epoch 59/1000\n",
      "118/118 [==============================] - 0s 2ms/step - loss: 0.5792 - categorical_accuracy: 0.7034 - val_loss: 0.5188 - val_categorical_accuracy: 1.0000\n",
      "Epoch 60/1000\n",
      "118/118 [==============================] - 0s 2ms/step - loss: 0.5536 - categorical_accuracy: 0.6525 - val_loss: 0.4729 - val_categorical_accuracy: 1.0000\n",
      "Epoch 61/1000\n",
      "118/118 [==============================] - 0s 2ms/step - loss: 0.4867 - categorical_accuracy: 0.7203 - val_loss: 0.4576 - val_categorical_accuracy: 1.0000\n",
      "Epoch 62/1000\n",
      "118/118 [==============================] - 0s 2ms/step - loss: 0.5312 - categorical_accuracy: 0.6441 - val_loss: 0.4472 - val_categorical_accuracy: 1.0000\n",
      "Epoch 63/1000\n",
      "118/118 [==============================] - 0s 2ms/step - loss: 0.6120 - categorical_accuracy: 0.6356 - val_loss: 0.4428 - val_categorical_accuracy: 1.0000\n",
      "Epoch 64/1000\n",
      "118/118 [==============================] - 0s 2ms/step - loss: 0.4562 - categorical_accuracy: 0.7542 - val_loss: 0.4153 - val_categorical_accuracy: 1.0000\n",
      "Epoch 65/1000\n",
      "118/118 [==============================] - 0s 2ms/step - loss: 0.5124 - categorical_accuracy: 0.7119 - val_loss: 0.4154 - val_categorical_accuracy: 1.0000\n",
      "Epoch 66/1000\n",
      "118/118 [==============================] - 0s 2ms/step - loss: 0.5344 - categorical_accuracy: 0.6356 - val_loss: 0.4096 - val_categorical_accuracy: 1.0000\n",
      "Epoch 67/1000\n",
      "118/118 [==============================] - 0s 2ms/step - loss: 0.5396 - categorical_accuracy: 0.6695 - val_loss: 0.3979 - val_categorical_accuracy: 1.0000\n",
      "Epoch 68/1000\n",
      "118/118 [==============================] - 0s 2ms/step - loss: 0.4890 - categorical_accuracy: 0.7288 - val_loss: 0.3900 - val_categorical_accuracy: 1.0000\n",
      "Epoch 69/1000\n",
      "118/118 [==============================] - 0s 2ms/step - loss: 0.5138 - categorical_accuracy: 0.6780 - val_loss: 0.3775 - val_categorical_accuracy: 1.0000\n",
      "Epoch 70/1000\n",
      "118/118 [==============================] - 0s 2ms/step - loss: 0.6120 - categorical_accuracy: 0.6695 - val_loss: 0.3738 - val_categorical_accuracy: 1.0000\n",
      "Epoch 71/1000\n",
      "118/118 [==============================] - 0s 2ms/step - loss: 0.5738 - categorical_accuracy: 0.6525 - val_loss: 0.3697 - val_categorical_accuracy: 1.0000\n",
      "Epoch 72/1000\n",
      "118/118 [==============================] - 0s 2ms/step - loss: 0.5198 - categorical_accuracy: 0.7119 - val_loss: 0.3583 - val_categorical_accuracy: 1.0000\n",
      "Epoch 73/1000\n",
      "118/118 [==============================] - 0s 2ms/step - loss: 0.5903 - categorical_accuracy: 0.7373 - val_loss: 0.3561 - val_categorical_accuracy: 1.0000\n",
      "Epoch 74/1000\n",
      "118/118 [==============================] - 0s 2ms/step - loss: 0.4768 - categorical_accuracy: 0.7881 - val_loss: 0.3581 - val_categorical_accuracy: 0.9615\n",
      "Epoch 75/1000\n",
      "118/118 [==============================] - 0s 2ms/step - loss: 0.6312 - categorical_accuracy: 0.6610 - val_loss: 0.3485 - val_categorical_accuracy: 1.0000\n",
      "Epoch 76/1000\n",
      "118/118 [==============================] - 0s 2ms/step - loss: 0.5591 - categorical_accuracy: 0.7373 - val_loss: 0.3436 - val_categorical_accuracy: 1.0000\n",
      "Epoch 77/1000\n",
      "118/118 [==============================] - 0s 2ms/step - loss: 0.4726 - categorical_accuracy: 0.7458 - val_loss: 0.3375 - val_categorical_accuracy: 1.0000\n",
      "Epoch 78/1000\n",
      "118/118 [==============================] - 0s 2ms/step - loss: 0.4964 - categorical_accuracy: 0.7712 - val_loss: 0.3312 - val_categorical_accuracy: 1.0000\n",
      "Epoch 79/1000\n",
      "118/118 [==============================] - 0s 2ms/step - loss: 0.5795 - categorical_accuracy: 0.6695 - val_loss: 0.3285 - val_categorical_accuracy: 1.0000\n",
      "Epoch 80/1000\n",
      "118/118 [==============================] - 0s 2ms/step - loss: 0.5312 - categorical_accuracy: 0.7712 - val_loss: 0.3398 - val_categorical_accuracy: 0.9231\n",
      "Epoch 81/1000\n",
      "118/118 [==============================] - 0s 2ms/step - loss: 0.4690 - categorical_accuracy: 0.7797 - val_loss: 0.3329 - val_categorical_accuracy: 0.9231\n",
      "Epoch 82/1000\n",
      "118/118 [==============================] - 0s 2ms/step - loss: 0.4215 - categorical_accuracy: 0.7712 - val_loss: 0.3318 - val_categorical_accuracy: 0.9231\n",
      "Epoch 83/1000\n",
      "118/118 [==============================] - 0s 2ms/step - loss: 0.4717 - categorical_accuracy: 0.7458 - val_loss: 0.3336 - val_categorical_accuracy: 0.9615\n",
      "Epoch 84/1000\n",
      "118/118 [==============================] - 0s 2ms/step - loss: 0.6455 - categorical_accuracy: 0.7288 - val_loss: 0.3351 - val_categorical_accuracy: 0.9231\n",
      "Epoch 85/1000\n",
      "118/118 [==============================] - 0s 2ms/step - loss: 0.4540 - categorical_accuracy: 0.7881 - val_loss: 0.3369 - val_categorical_accuracy: 0.9231\n",
      "Epoch 86/1000\n",
      "118/118 [==============================] - 0s 2ms/step - loss: 0.4912 - categorical_accuracy: 0.7712 - val_loss: 0.3333 - val_categorical_accuracy: 0.8846\n",
      "Epoch 87/1000\n",
      "118/118 [==============================] - 0s 2ms/step - loss: 0.4292 - categorical_accuracy: 0.8051 - val_loss: 0.3321 - val_categorical_accuracy: 0.8846\n",
      "Epoch 88/1000\n",
      "118/118 [==============================] - 0s 2ms/step - loss: 0.5381 - categorical_accuracy: 0.7542 - val_loss: 0.3136 - val_categorical_accuracy: 0.9231\n",
      "Epoch 89/1000\n",
      "118/118 [==============================] - 0s 2ms/step - loss: 0.4705 - categorical_accuracy: 0.7712 - val_loss: 0.2982 - val_categorical_accuracy: 0.9231\n",
      "Epoch 90/1000\n",
      "118/118 [==============================] - 0s 2ms/step - loss: 0.5023 - categorical_accuracy: 0.7797 - val_loss: 0.2946 - val_categorical_accuracy: 0.9615\n",
      "Epoch 91/1000\n",
      "118/118 [==============================] - 0s 2ms/step - loss: 0.5072 - categorical_accuracy: 0.7119 - val_loss: 0.2884 - val_categorical_accuracy: 0.9615\n",
      "Epoch 92/1000\n",
      "118/118 [==============================] - 0s 2ms/step - loss: 0.5063 - categorical_accuracy: 0.8390 - val_loss: 0.2864 - val_categorical_accuracy: 0.9231\n",
      "Epoch 93/1000\n",
      "118/118 [==============================] - 0s 2ms/step - loss: 0.5396 - categorical_accuracy: 0.7034 - val_loss: 0.2770 - val_categorical_accuracy: 0.9231\n",
      "Epoch 94/1000\n",
      "118/118 [==============================] - 0s 2ms/step - loss: 0.4140 - categorical_accuracy: 0.8051 - val_loss: 0.2727 - val_categorical_accuracy: 0.9615\n",
      "Epoch 95/1000\n",
      "118/118 [==============================] - 0s 2ms/step - loss: 0.5144 - categorical_accuracy: 0.7288 - val_loss: 0.2571 - val_categorical_accuracy: 0.9615\n",
      "Epoch 96/1000\n",
      "118/118 [==============================] - 0s 2ms/step - loss: 0.4997 - categorical_accuracy: 0.7627 - val_loss: 0.2681 - val_categorical_accuracy: 0.9615\n",
      "Epoch 97/1000\n",
      "118/118 [==============================] - 0s 2ms/step - loss: 0.3516 - categorical_accuracy: 0.8305 - val_loss: 0.2749 - val_categorical_accuracy: 0.9231\n",
      "Epoch 98/1000\n",
      "118/118 [==============================] - 0s 2ms/step - loss: 0.5121 - categorical_accuracy: 0.7627 - val_loss: 0.2794 - val_categorical_accuracy: 0.9231\n",
      "Epoch 99/1000\n",
      "118/118 [==============================] - 0s 2ms/step - loss: 0.5643 - categorical_accuracy: 0.7373 - val_loss: 0.2653 - val_categorical_accuracy: 0.9231\n",
      "Epoch 100/1000\n",
      "118/118 [==============================] - 0s 2ms/step - loss: 0.4237 - categorical_accuracy: 0.8220 - val_loss: 0.2858 - val_categorical_accuracy: 0.8846\n",
      "Epoch 101/1000\n",
      "118/118 [==============================] - 0s 2ms/step - loss: 0.5374 - categorical_accuracy: 0.7627 - val_loss: 0.2672 - val_categorical_accuracy: 0.9231\n",
      "Epoch 102/1000\n",
      "118/118 [==============================] - 0s 2ms/step - loss: 0.5054 - categorical_accuracy: 0.7797 - val_loss: 0.2457 - val_categorical_accuracy: 1.0000\n",
      "Epoch 103/1000\n",
      "118/118 [==============================] - 0s 2ms/step - loss: 0.5228 - categorical_accuracy: 0.7797 - val_loss: 0.2438 - val_categorical_accuracy: 1.0000\n",
      "Epoch 104/1000\n",
      "118/118 [==============================] - 0s 2ms/step - loss: 0.4870 - categorical_accuracy: 0.8390 - val_loss: 0.2405 - val_categorical_accuracy: 0.9615\n",
      "Epoch 105/1000\n",
      "118/118 [==============================] - 0s 2ms/step - loss: 0.3928 - categorical_accuracy: 0.8475 - val_loss: 0.2377 - val_categorical_accuracy: 0.9231\n",
      "Epoch 106/1000\n",
      "118/118 [==============================] - 0s 2ms/step - loss: 0.3705 - categorical_accuracy: 0.8475 - val_loss: 0.2413 - val_categorical_accuracy: 0.9231\n",
      "Epoch 107/1000\n",
      "118/118 [==============================] - 0s 2ms/step - loss: 0.5982 - categorical_accuracy: 0.7712 - val_loss: 0.2464 - val_categorical_accuracy: 0.9231\n",
      "Epoch 108/1000\n",
      "118/118 [==============================] - 0s 2ms/step - loss: 0.4815 - categorical_accuracy: 0.7881 - val_loss: 0.2475 - val_categorical_accuracy: 0.9231\n",
      "Epoch 109/1000\n",
      "118/118 [==============================] - 0s 2ms/step - loss: 0.3659 - categorical_accuracy: 0.8729 - val_loss: 0.2548 - val_categorical_accuracy: 0.9231\n",
      "Epoch 110/1000\n",
      "118/118 [==============================] - 0s 2ms/step - loss: 0.3972 - categorical_accuracy: 0.8136 - val_loss: 0.2344 - val_categorical_accuracy: 0.9615\n",
      "Epoch 111/1000\n",
      "118/118 [==============================] - 0s 2ms/step - loss: 0.4798 - categorical_accuracy: 0.7881 - val_loss: 0.2196 - val_categorical_accuracy: 0.9615\n",
      "Epoch 112/1000\n",
      "118/118 [==============================] - 0s 2ms/step - loss: 0.4028 - categorical_accuracy: 0.8475 - val_loss: 0.2261 - val_categorical_accuracy: 0.9615\n",
      "Epoch 113/1000\n",
      "118/118 [==============================] - 0s 2ms/step - loss: 0.5297 - categorical_accuracy: 0.7797 - val_loss: 0.2220 - val_categorical_accuracy: 0.9615\n",
      "Epoch 114/1000\n",
      "118/118 [==============================] - 0s 2ms/step - loss: 0.4701 - categorical_accuracy: 0.7966 - val_loss: 0.2032 - val_categorical_accuracy: 0.9615\n",
      "Epoch 115/1000\n",
      "118/118 [==============================] - 0s 2ms/step - loss: 0.3866 - categorical_accuracy: 0.8220 - val_loss: 0.2139 - val_categorical_accuracy: 0.9615\n",
      "Epoch 116/1000\n",
      "118/118 [==============================] - 0s 2ms/step - loss: 0.4488 - categorical_accuracy: 0.8220 - val_loss: 0.1881 - val_categorical_accuracy: 0.9615\n",
      "Epoch 117/1000\n",
      "118/118 [==============================] - 0s 2ms/step - loss: 0.5472 - categorical_accuracy: 0.8051 - val_loss: 0.1919 - val_categorical_accuracy: 0.9615\n",
      "Epoch 118/1000\n",
      "118/118 [==============================] - 0s 2ms/step - loss: 0.4831 - categorical_accuracy: 0.7797 - val_loss: 0.1988 - val_categorical_accuracy: 0.9615\n",
      "Epoch 119/1000\n",
      "118/118 [==============================] - 0s 2ms/step - loss: 0.4251 - categorical_accuracy: 0.7797 - val_loss: 0.1952 - val_categorical_accuracy: 0.9615\n",
      "Epoch 120/1000\n",
      "118/118 [==============================] - 0s 2ms/step - loss: 0.5644 - categorical_accuracy: 0.7542 - val_loss: 0.1967 - val_categorical_accuracy: 0.9615\n",
      "Epoch 121/1000\n",
      "118/118 [==============================] - 0s 2ms/step - loss: 0.4903 - categorical_accuracy: 0.7542 - val_loss: 0.1983 - val_categorical_accuracy: 0.9615\n",
      "Epoch 122/1000\n",
      "118/118 [==============================] - 0s 2ms/step - loss: 0.4919 - categorical_accuracy: 0.7881 - val_loss: 0.1910 - val_categorical_accuracy: 0.9615\n",
      "Epoch 123/1000\n",
      "118/118 [==============================] - 0s 2ms/step - loss: 0.4431 - categorical_accuracy: 0.7966 - val_loss: 0.1945 - val_categorical_accuracy: 0.9615\n",
      "Epoch 124/1000\n",
      "118/118 [==============================] - 0s 2ms/step - loss: 0.4791 - categorical_accuracy: 0.7712 - val_loss: 0.1853 - val_categorical_accuracy: 0.9615\n",
      "Epoch 125/1000\n",
      "118/118 [==============================] - 0s 2ms/step - loss: 0.6344 - categorical_accuracy: 0.7627 - val_loss: 0.1894 - val_categorical_accuracy: 1.0000\n",
      "Epoch 126/1000\n",
      "118/118 [==============================] - 0s 2ms/step - loss: 0.4852 - categorical_accuracy: 0.7712 - val_loss: 0.1916 - val_categorical_accuracy: 1.0000\n",
      "Epoch 127/1000\n",
      "118/118 [==============================] - 0s 2ms/step - loss: 0.3908 - categorical_accuracy: 0.8305 - val_loss: 0.2042 - val_categorical_accuracy: 0.9615\n"
     ]
    },
    {
     "data": {
      "text/plain": [
       "<keras.callbacks.History at 0x2001a327400>"
      ]
     },
     "execution_count": 12,
     "metadata": {},
     "output_type": "execute_result"
    }
   ],
   "source": [
    "EPOCHS = 1000\n",
    "BATCH_SIZE = 1\n",
    "callback = tf.keras.callbacks.EarlyStopping(monitor='loss', patience=30)\n",
    "\n",
    "divorce_model.fit(\n",
    "    x=xs_train,\n",
    "    y=ys_train,\n",
    "    validation_data=(xs_val, ys_val),\n",
    "    batch_size=BATCH_SIZE,\n",
    "    epochs=EPOCHS,\n",
    "    shuffle=True,\n",
    "    callbacks=[callback]\n",
    ")"
   ]
  },
  {
   "cell_type": "markdown",
   "metadata": {},
   "source": []
  },
  {
   "cell_type": "markdown",
   "metadata": {},
   "source": [
    "Evaluate model"
   ]
  },
  {
   "cell_type": "code",
   "execution_count": 13,
   "metadata": {},
   "outputs": [
    {
     "name": "stdout",
     "output_type": "stream",
     "text": [
      "\n",
      " Model evaluation test results\n",
      "1/1 [==============================] - 0s 244ms/step - loss: 0.1990 - categorical_accuracy: 1.0000\n"
     ]
    },
    {
     "data": {
      "text/plain": [
       "[0.19903284311294556, 1.0]"
      ]
     },
     "execution_count": 13,
     "metadata": {},
     "output_type": "execute_result"
    }
   ],
   "source": [
    "print('\\n Model evaluation test results')\n",
    "divorce_model.evaluate(xs_test, ys_test)"
   ]
  },
  {
   "cell_type": "markdown",
   "metadata": {},
   "source": [
    "Sample prediction"
   ]
  },
  {
   "cell_type": "code",
   "execution_count": 17,
   "metadata": {},
   "outputs": [
    {
     "name": "stdout",
     "output_type": "stream",
     "text": [
      "Sample input (divorce questionnaire response)\n",
      "[1 1 1 1 1 0 0 1 1 1 1 0 0 0 0 0 0 0 0 0 0 0 0 0 0 0 0 0 0 0 0 2 0 0 0 0 0\n",
      " 0 0 0 0 0 0 0 0 2 2 3 3 3 3 1 1 0]\n",
      "\n",
      "Sample divorce prediction [yes no]\n",
      "[0.6549671  0.34503284]\n",
      "\n",
      "Actual class (one-hot encoded)\n",
      "tf.Tensor([1. 0.], shape=(2,), dtype=float32)\n"
     ]
    }
   ],
   "source": [
    "print(\"Sample input (divorce questionnaire response)\")\n",
    "print(xs_test.to_numpy()[0])\n",
    "print(\"\\nSample divorce prediction [yes no]\")\n",
    "print(divorce_model.predict(xs_test)[0])\n",
    "print(\"\\nActual class (one-hot encoded)\")\n",
    "print(ys_test[0])"
   ]
  },
  {
   "cell_type": "markdown",
   "metadata": {},
   "source": [
    "Save model"
   ]
  },
  {
   "cell_type": "code",
   "execution_count": 15,
   "metadata": {},
   "outputs": [],
   "source": [
    "divorce_model.save('nnModel/divorce_model.h5')"
   ]
  },
  {
   "cell_type": "markdown",
   "metadata": {},
   "source": [
    "Convert to tfjs (optional but used in client-side deployment)"
   ]
  },
  {
   "cell_type": "code",
   "execution_count": 16,
   "metadata": {},
   "outputs": [],
   "source": [
    "tfjs.converters.save_keras_model(divorce_model, 'tfjs')"
   ]
  }
 ],
 "metadata": {
  "interpreter": {
   "hash": "c2d7d91f3408f3314cd4551229bc17f807d1b83d3fd61e9bf22d33a46feb6fc7"
  },
  "kernelspec": {
   "display_name": "Python 3.9.7 64-bit ('divorcePred': conda)",
   "language": "python",
   "name": "python3"
  },
  "language_info": {
   "codemirror_mode": {
    "name": "ipython",
    "version": 3
   },
   "file_extension": ".py",
   "mimetype": "text/x-python",
   "name": "python",
   "nbconvert_exporter": "python",
   "pygments_lexer": "ipython3",
   "version": "3.9.7"
  },
  "orig_nbformat": 4
 },
 "nbformat": 4,
 "nbformat_minor": 2
}
